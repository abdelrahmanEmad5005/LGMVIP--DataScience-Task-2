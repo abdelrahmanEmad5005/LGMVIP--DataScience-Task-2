{
  "nbformat": 4,
  "nbformat_minor": 0,
  "metadata": {
    "colab": {
      "provenance": [],
      "authorship_tag": "ABX9TyOBVQz7l925YDX2BE3aeWQT",
      "include_colab_link": true
    },
    "kernelspec": {
      "name": "python3",
      "display_name": "Python 3"
    },
    "language_info": {
      "name": "python"
    }
  },
  "cells": [
    {
      "cell_type": "markdown",
      "metadata": {
        "id": "view-in-github",
        "colab_type": "text"
      },
      "source": [
        "<a href=\"https://colab.research.google.com/github/abdelrahmanEmad5005/LGMVIP--DataScience-Task-2/blob/main/stock_Market_Prediction_And_Forecasting_Using_Stacked_lstm.ipynb\" target=\"_parent\"><img src=\"https://colab.research.google.com/assets/colab-badge.svg\" alt=\"Open In Colab\"/></a>"
      ]
    },
    {
      "cell_type": "markdown",
      "source": [
        "##**Importing Libraries And Read Data**"
      ],
      "metadata": {
        "id": "dbM0MM39qDb1"
      }
    },
    {
      "cell_type": "code",
      "source": [
        "import pandas as pd\n",
        "import numpy as np\n",
        "import matplotlib.pyplot as plt\n",
        "from sklearn.preprocessing import MinMaxScaler\n",
        "from tensorflow.keras.models import Sequential\n",
        "from tensorflow.keras.layers import Dense\n",
        "from tensorflow.keras.layers import LSTM\n",
        "from sklearn.metrics import mean_squared_error"
      ],
      "metadata": {
        "id": "JVhcwFwXqLl6"
      },
      "execution_count": 62,
      "outputs": []
    },
    {
      "cell_type": "code",
      "execution_count": 32,
      "metadata": {
        "id": "K8bCFBABLBEm"
      },
      "outputs": [],
      "source": [
        "url = \"https://raw.githubusercontent.com/mwitiderrick/stockprice/master/NSE-TATAGLOBAL.csv\""
      ]
    },
    {
      "cell_type": "code",
      "source": [
        "Stock_market = pd.read_csv(url, index_col = \"Date\", parse_dates=True)"
      ],
      "metadata": {
        "id": "aZzP42pGRdvu"
      },
      "execution_count": 33,
      "outputs": []
    },
    {
      "cell_type": "markdown",
      "source": [
        "##**Exploring The Data**\n"
      ],
      "metadata": {
        "id": "74b84CeprQr9"
      }
    },
    {
      "cell_type": "code",
      "source": [
        "Stock_market.head()"
      ],
      "metadata": {
        "colab": {
          "base_uri": "https://localhost:8080/",
          "height": 238
        },
        "id": "GflTyTGErt17",
        "outputId": "09ab791e-efc6-4ef4-f325-7d025970a070"
      },
      "execution_count": 34,
      "outputs": [
        {
          "output_type": "execute_result",
          "data": {
            "text/plain": [
              "              Open    High     Low    Last   Close  Total Trade Quantity  \\\n",
              "Date                                                                       \n",
              "2018-09-28  234.05  235.95  230.20  233.50  233.75               3069914   \n",
              "2018-09-27  234.55  236.80  231.10  233.80  233.25               5082859   \n",
              "2018-09-26  240.00  240.00  232.50  235.00  234.25               2240909   \n",
              "2018-09-25  233.30  236.75  232.00  236.25  236.10               2349368   \n",
              "2018-09-24  233.55  239.20  230.75  234.00  233.30               3423509   \n",
              "\n",
              "            Turnover (Lacs)  \n",
              "Date                         \n",
              "2018-09-28          7162.35  \n",
              "2018-09-27         11859.95  \n",
              "2018-09-26          5248.60  \n",
              "2018-09-25          5503.90  \n",
              "2018-09-24          7999.55  "
            ],
            "text/html": [
              "\n",
              "  <div id=\"df-5c73f873-d0a5-4e93-9dd0-8b3260aeb0e3\">\n",
              "    <div class=\"colab-df-container\">\n",
              "      <div>\n",
              "<style scoped>\n",
              "    .dataframe tbody tr th:only-of-type {\n",
              "        vertical-align: middle;\n",
              "    }\n",
              "\n",
              "    .dataframe tbody tr th {\n",
              "        vertical-align: top;\n",
              "    }\n",
              "\n",
              "    .dataframe thead th {\n",
              "        text-align: right;\n",
              "    }\n",
              "</style>\n",
              "<table border=\"1\" class=\"dataframe\">\n",
              "  <thead>\n",
              "    <tr style=\"text-align: right;\">\n",
              "      <th></th>\n",
              "      <th>Open</th>\n",
              "      <th>High</th>\n",
              "      <th>Low</th>\n",
              "      <th>Last</th>\n",
              "      <th>Close</th>\n",
              "      <th>Total Trade Quantity</th>\n",
              "      <th>Turnover (Lacs)</th>\n",
              "    </tr>\n",
              "    <tr>\n",
              "      <th>Date</th>\n",
              "      <th></th>\n",
              "      <th></th>\n",
              "      <th></th>\n",
              "      <th></th>\n",
              "      <th></th>\n",
              "      <th></th>\n",
              "      <th></th>\n",
              "    </tr>\n",
              "  </thead>\n",
              "  <tbody>\n",
              "    <tr>\n",
              "      <th>2018-09-28</th>\n",
              "      <td>234.05</td>\n",
              "      <td>235.95</td>\n",
              "      <td>230.20</td>\n",
              "      <td>233.50</td>\n",
              "      <td>233.75</td>\n",
              "      <td>3069914</td>\n",
              "      <td>7162.35</td>\n",
              "    </tr>\n",
              "    <tr>\n",
              "      <th>2018-09-27</th>\n",
              "      <td>234.55</td>\n",
              "      <td>236.80</td>\n",
              "      <td>231.10</td>\n",
              "      <td>233.80</td>\n",
              "      <td>233.25</td>\n",
              "      <td>5082859</td>\n",
              "      <td>11859.95</td>\n",
              "    </tr>\n",
              "    <tr>\n",
              "      <th>2018-09-26</th>\n",
              "      <td>240.00</td>\n",
              "      <td>240.00</td>\n",
              "      <td>232.50</td>\n",
              "      <td>235.00</td>\n",
              "      <td>234.25</td>\n",
              "      <td>2240909</td>\n",
              "      <td>5248.60</td>\n",
              "    </tr>\n",
              "    <tr>\n",
              "      <th>2018-09-25</th>\n",
              "      <td>233.30</td>\n",
              "      <td>236.75</td>\n",
              "      <td>232.00</td>\n",
              "      <td>236.25</td>\n",
              "      <td>236.10</td>\n",
              "      <td>2349368</td>\n",
              "      <td>5503.90</td>\n",
              "    </tr>\n",
              "    <tr>\n",
              "      <th>2018-09-24</th>\n",
              "      <td>233.55</td>\n",
              "      <td>239.20</td>\n",
              "      <td>230.75</td>\n",
              "      <td>234.00</td>\n",
              "      <td>233.30</td>\n",
              "      <td>3423509</td>\n",
              "      <td>7999.55</td>\n",
              "    </tr>\n",
              "  </tbody>\n",
              "</table>\n",
              "</div>\n",
              "      <button class=\"colab-df-convert\" onclick=\"convertToInteractive('df-5c73f873-d0a5-4e93-9dd0-8b3260aeb0e3')\"\n",
              "              title=\"Convert this dataframe to an interactive table.\"\n",
              "              style=\"display:none;\">\n",
              "        \n",
              "  <svg xmlns=\"http://www.w3.org/2000/svg\" height=\"24px\"viewBox=\"0 0 24 24\"\n",
              "       width=\"24px\">\n",
              "    <path d=\"M0 0h24v24H0V0z\" fill=\"none\"/>\n",
              "    <path d=\"M18.56 5.44l.94 2.06.94-2.06 2.06-.94-2.06-.94-.94-2.06-.94 2.06-2.06.94zm-11 1L8.5 8.5l.94-2.06 2.06-.94-2.06-.94L8.5 2.5l-.94 2.06-2.06.94zm10 10l.94 2.06.94-2.06 2.06-.94-2.06-.94-.94-2.06-.94 2.06-2.06.94z\"/><path d=\"M17.41 7.96l-1.37-1.37c-.4-.4-.92-.59-1.43-.59-.52 0-1.04.2-1.43.59L10.3 9.45l-7.72 7.72c-.78.78-.78 2.05 0 2.83L4 21.41c.39.39.9.59 1.41.59.51 0 1.02-.2 1.41-.59l7.78-7.78 2.81-2.81c.8-.78.8-2.07 0-2.86zM5.41 20L4 18.59l7.72-7.72 1.47 1.35L5.41 20z\"/>\n",
              "  </svg>\n",
              "      </button>\n",
              "      \n",
              "  <style>\n",
              "    .colab-df-container {\n",
              "      display:flex;\n",
              "      flex-wrap:wrap;\n",
              "      gap: 12px;\n",
              "    }\n",
              "\n",
              "    .colab-df-convert {\n",
              "      background-color: #E8F0FE;\n",
              "      border: none;\n",
              "      border-radius: 50%;\n",
              "      cursor: pointer;\n",
              "      display: none;\n",
              "      fill: #1967D2;\n",
              "      height: 32px;\n",
              "      padding: 0 0 0 0;\n",
              "      width: 32px;\n",
              "    }\n",
              "\n",
              "    .colab-df-convert:hover {\n",
              "      background-color: #E2EBFA;\n",
              "      box-shadow: 0px 1px 2px rgba(60, 64, 67, 0.3), 0px 1px 3px 1px rgba(60, 64, 67, 0.15);\n",
              "      fill: #174EA6;\n",
              "    }\n",
              "\n",
              "    [theme=dark] .colab-df-convert {\n",
              "      background-color: #3B4455;\n",
              "      fill: #D2E3FC;\n",
              "    }\n",
              "\n",
              "    [theme=dark] .colab-df-convert:hover {\n",
              "      background-color: #434B5C;\n",
              "      box-shadow: 0px 1px 3px 1px rgba(0, 0, 0, 0.15);\n",
              "      filter: drop-shadow(0px 1px 2px rgba(0, 0, 0, 0.3));\n",
              "      fill: #FFFFFF;\n",
              "    }\n",
              "  </style>\n",
              "\n",
              "      <script>\n",
              "        const buttonEl =\n",
              "          document.querySelector('#df-5c73f873-d0a5-4e93-9dd0-8b3260aeb0e3 button.colab-df-convert');\n",
              "        buttonEl.style.display =\n",
              "          google.colab.kernel.accessAllowed ? 'block' : 'none';\n",
              "\n",
              "        async function convertToInteractive(key) {\n",
              "          const element = document.querySelector('#df-5c73f873-d0a5-4e93-9dd0-8b3260aeb0e3');\n",
              "          const dataTable =\n",
              "            await google.colab.kernel.invokeFunction('convertToInteractive',\n",
              "                                                     [key], {});\n",
              "          if (!dataTable) return;\n",
              "\n",
              "          const docLinkHtml = 'Like what you see? Visit the ' +\n",
              "            '<a target=\"_blank\" href=https://colab.research.google.com/notebooks/data_table.ipynb>data table notebook</a>'\n",
              "            + ' to learn more about interactive tables.';\n",
              "          element.innerHTML = '';\n",
              "          dataTable['output_type'] = 'display_data';\n",
              "          await google.colab.output.renderOutput(dataTable, element);\n",
              "          const docLink = document.createElement('div');\n",
              "          docLink.innerHTML = docLinkHtml;\n",
              "          element.appendChild(docLink);\n",
              "        }\n",
              "      </script>\n",
              "    </div>\n",
              "  </div>\n",
              "  "
            ]
          },
          "metadata": {},
          "execution_count": 34
        }
      ]
    },
    {
      "cell_type": "code",
      "source": [
        "Stock_market.info"
      ],
      "metadata": {
        "colab": {
          "base_uri": "https://localhost:8080/"
        },
        "id": "IRQkDI38R4Nn",
        "outputId": "65635b0f-28c9-4d2e-b5f8-04bbb62f3a79"
      },
      "execution_count": 35,
      "outputs": [
        {
          "output_type": "execute_result",
          "data": {
            "text/plain": [
              "<bound method DataFrame.info of               Open    High     Low    Last   Close  Total Trade Quantity  \\\n",
              "Date                                                                       \n",
              "2018-09-28  234.05  235.95  230.20  233.50  233.75               3069914   \n",
              "2018-09-27  234.55  236.80  231.10  233.80  233.25               5082859   \n",
              "2018-09-26  240.00  240.00  232.50  235.00  234.25               2240909   \n",
              "2018-09-25  233.30  236.75  232.00  236.25  236.10               2349368   \n",
              "2018-09-24  233.55  239.20  230.75  234.00  233.30               3423509   \n",
              "...            ...     ...     ...     ...     ...                   ...   \n",
              "2010-07-27  117.60  119.50  112.00  118.80  118.65                586100   \n",
              "2010-07-26  120.10  121.00  117.10  117.10  117.60                658440   \n",
              "2010-07-23  121.80  121.95  120.25  120.35  120.65                281312   \n",
              "2010-07-22  120.30  122.00  120.25  120.75  120.90                293312   \n",
              "2010-07-21  122.10  123.00  121.05  121.10  121.55                658666   \n",
              "\n",
              "            Turnover (Lacs)  \n",
              "Date                         \n",
              "2018-09-28          7162.35  \n",
              "2018-09-27         11859.95  \n",
              "2018-09-26          5248.60  \n",
              "2018-09-25          5503.90  \n",
              "2018-09-24          7999.55  \n",
              "...                     ...  \n",
              "2010-07-27           694.98  \n",
              "2010-07-26           780.01  \n",
              "2010-07-23           340.31  \n",
              "2010-07-22           355.17  \n",
              "2010-07-21           803.56  \n",
              "\n",
              "[2035 rows x 7 columns]>"
            ]
          },
          "metadata": {},
          "execution_count": 35
        }
      ]
    },
    {
      "cell_type": "code",
      "source": [
        "Stock_market.describe()"
      ],
      "metadata": {
        "colab": {
          "base_uri": "https://localhost:8080/",
          "height": 300
        },
        "id": "_fFQqyYxR9WD",
        "outputId": "f3c172f8-715a-45d0-b87b-23023781272d"
      },
      "execution_count": 36,
      "outputs": [
        {
          "output_type": "execute_result",
          "data": {
            "text/plain": [
              "              Open         High          Low         Last       Close  \\\n",
              "count  2035.000000  2035.000000  2035.000000  2035.000000  2035.00000   \n",
              "mean    149.713735   151.992826   147.293931   149.474251   149.45027   \n",
              "std      48.664509    49.413109    47.931958    48.732570    48.71204   \n",
              "min      81.100000    82.800000    80.000000    81.000000    80.95000   \n",
              "25%     120.025000   122.100000   118.300000   120.075000   120.05000   \n",
              "50%     141.500000   143.400000   139.600000   141.100000   141.25000   \n",
              "75%     157.175000   159.400000   155.150000   156.925000   156.90000   \n",
              "max     327.700000   328.750000   321.650000   325.950000   325.75000   \n",
              "\n",
              "       Total Trade Quantity  Turnover (Lacs)  \n",
              "count          2.035000e+03      2035.000000  \n",
              "mean           2.335681e+06      3899.980565  \n",
              "std            2.091778e+06      4570.767877  \n",
              "min            3.961000e+04        37.040000  \n",
              "25%            1.146444e+06      1427.460000  \n",
              "50%            1.783456e+06      2512.030000  \n",
              "75%            2.813594e+06      4539.015000  \n",
              "max            2.919102e+07     55755.080000  "
            ],
            "text/html": [
              "\n",
              "  <div id=\"df-ed0a1b76-2edb-46c2-bf31-c8acfe24c916\">\n",
              "    <div class=\"colab-df-container\">\n",
              "      <div>\n",
              "<style scoped>\n",
              "    .dataframe tbody tr th:only-of-type {\n",
              "        vertical-align: middle;\n",
              "    }\n",
              "\n",
              "    .dataframe tbody tr th {\n",
              "        vertical-align: top;\n",
              "    }\n",
              "\n",
              "    .dataframe thead th {\n",
              "        text-align: right;\n",
              "    }\n",
              "</style>\n",
              "<table border=\"1\" class=\"dataframe\">\n",
              "  <thead>\n",
              "    <tr style=\"text-align: right;\">\n",
              "      <th></th>\n",
              "      <th>Open</th>\n",
              "      <th>High</th>\n",
              "      <th>Low</th>\n",
              "      <th>Last</th>\n",
              "      <th>Close</th>\n",
              "      <th>Total Trade Quantity</th>\n",
              "      <th>Turnover (Lacs)</th>\n",
              "    </tr>\n",
              "  </thead>\n",
              "  <tbody>\n",
              "    <tr>\n",
              "      <th>count</th>\n",
              "      <td>2035.000000</td>\n",
              "      <td>2035.000000</td>\n",
              "      <td>2035.000000</td>\n",
              "      <td>2035.000000</td>\n",
              "      <td>2035.00000</td>\n",
              "      <td>2.035000e+03</td>\n",
              "      <td>2035.000000</td>\n",
              "    </tr>\n",
              "    <tr>\n",
              "      <th>mean</th>\n",
              "      <td>149.713735</td>\n",
              "      <td>151.992826</td>\n",
              "      <td>147.293931</td>\n",
              "      <td>149.474251</td>\n",
              "      <td>149.45027</td>\n",
              "      <td>2.335681e+06</td>\n",
              "      <td>3899.980565</td>\n",
              "    </tr>\n",
              "    <tr>\n",
              "      <th>std</th>\n",
              "      <td>48.664509</td>\n",
              "      <td>49.413109</td>\n",
              "      <td>47.931958</td>\n",
              "      <td>48.732570</td>\n",
              "      <td>48.71204</td>\n",
              "      <td>2.091778e+06</td>\n",
              "      <td>4570.767877</td>\n",
              "    </tr>\n",
              "    <tr>\n",
              "      <th>min</th>\n",
              "      <td>81.100000</td>\n",
              "      <td>82.800000</td>\n",
              "      <td>80.000000</td>\n",
              "      <td>81.000000</td>\n",
              "      <td>80.95000</td>\n",
              "      <td>3.961000e+04</td>\n",
              "      <td>37.040000</td>\n",
              "    </tr>\n",
              "    <tr>\n",
              "      <th>25%</th>\n",
              "      <td>120.025000</td>\n",
              "      <td>122.100000</td>\n",
              "      <td>118.300000</td>\n",
              "      <td>120.075000</td>\n",
              "      <td>120.05000</td>\n",
              "      <td>1.146444e+06</td>\n",
              "      <td>1427.460000</td>\n",
              "    </tr>\n",
              "    <tr>\n",
              "      <th>50%</th>\n",
              "      <td>141.500000</td>\n",
              "      <td>143.400000</td>\n",
              "      <td>139.600000</td>\n",
              "      <td>141.100000</td>\n",
              "      <td>141.25000</td>\n",
              "      <td>1.783456e+06</td>\n",
              "      <td>2512.030000</td>\n",
              "    </tr>\n",
              "    <tr>\n",
              "      <th>75%</th>\n",
              "      <td>157.175000</td>\n",
              "      <td>159.400000</td>\n",
              "      <td>155.150000</td>\n",
              "      <td>156.925000</td>\n",
              "      <td>156.90000</td>\n",
              "      <td>2.813594e+06</td>\n",
              "      <td>4539.015000</td>\n",
              "    </tr>\n",
              "    <tr>\n",
              "      <th>max</th>\n",
              "      <td>327.700000</td>\n",
              "      <td>328.750000</td>\n",
              "      <td>321.650000</td>\n",
              "      <td>325.950000</td>\n",
              "      <td>325.75000</td>\n",
              "      <td>2.919102e+07</td>\n",
              "      <td>55755.080000</td>\n",
              "    </tr>\n",
              "  </tbody>\n",
              "</table>\n",
              "</div>\n",
              "      <button class=\"colab-df-convert\" onclick=\"convertToInteractive('df-ed0a1b76-2edb-46c2-bf31-c8acfe24c916')\"\n",
              "              title=\"Convert this dataframe to an interactive table.\"\n",
              "              style=\"display:none;\">\n",
              "        \n",
              "  <svg xmlns=\"http://www.w3.org/2000/svg\" height=\"24px\"viewBox=\"0 0 24 24\"\n",
              "       width=\"24px\">\n",
              "    <path d=\"M0 0h24v24H0V0z\" fill=\"none\"/>\n",
              "    <path d=\"M18.56 5.44l.94 2.06.94-2.06 2.06-.94-2.06-.94-.94-2.06-.94 2.06-2.06.94zm-11 1L8.5 8.5l.94-2.06 2.06-.94-2.06-.94L8.5 2.5l-.94 2.06-2.06.94zm10 10l.94 2.06.94-2.06 2.06-.94-2.06-.94-.94-2.06-.94 2.06-2.06.94z\"/><path d=\"M17.41 7.96l-1.37-1.37c-.4-.4-.92-.59-1.43-.59-.52 0-1.04.2-1.43.59L10.3 9.45l-7.72 7.72c-.78.78-.78 2.05 0 2.83L4 21.41c.39.39.9.59 1.41.59.51 0 1.02-.2 1.41-.59l7.78-7.78 2.81-2.81c.8-.78.8-2.07 0-2.86zM5.41 20L4 18.59l7.72-7.72 1.47 1.35L5.41 20z\"/>\n",
              "  </svg>\n",
              "      </button>\n",
              "      \n",
              "  <style>\n",
              "    .colab-df-container {\n",
              "      display:flex;\n",
              "      flex-wrap:wrap;\n",
              "      gap: 12px;\n",
              "    }\n",
              "\n",
              "    .colab-df-convert {\n",
              "      background-color: #E8F0FE;\n",
              "      border: none;\n",
              "      border-radius: 50%;\n",
              "      cursor: pointer;\n",
              "      display: none;\n",
              "      fill: #1967D2;\n",
              "      height: 32px;\n",
              "      padding: 0 0 0 0;\n",
              "      width: 32px;\n",
              "    }\n",
              "\n",
              "    .colab-df-convert:hover {\n",
              "      background-color: #E2EBFA;\n",
              "      box-shadow: 0px 1px 2px rgba(60, 64, 67, 0.3), 0px 1px 3px 1px rgba(60, 64, 67, 0.15);\n",
              "      fill: #174EA6;\n",
              "    }\n",
              "\n",
              "    [theme=dark] .colab-df-convert {\n",
              "      background-color: #3B4455;\n",
              "      fill: #D2E3FC;\n",
              "    }\n",
              "\n",
              "    [theme=dark] .colab-df-convert:hover {\n",
              "      background-color: #434B5C;\n",
              "      box-shadow: 0px 1px 3px 1px rgba(0, 0, 0, 0.15);\n",
              "      filter: drop-shadow(0px 1px 2px rgba(0, 0, 0, 0.3));\n",
              "      fill: #FFFFFF;\n",
              "    }\n",
              "  </style>\n",
              "\n",
              "      <script>\n",
              "        const buttonEl =\n",
              "          document.querySelector('#df-ed0a1b76-2edb-46c2-bf31-c8acfe24c916 button.colab-df-convert');\n",
              "        buttonEl.style.display =\n",
              "          google.colab.kernel.accessAllowed ? 'block' : 'none';\n",
              "\n",
              "        async function convertToInteractive(key) {\n",
              "          const element = document.querySelector('#df-ed0a1b76-2edb-46c2-bf31-c8acfe24c916');\n",
              "          const dataTable =\n",
              "            await google.colab.kernel.invokeFunction('convertToInteractive',\n",
              "                                                     [key], {});\n",
              "          if (!dataTable) return;\n",
              "\n",
              "          const docLinkHtml = 'Like what you see? Visit the ' +\n",
              "            '<a target=\"_blank\" href=https://colab.research.google.com/notebooks/data_table.ipynb>data table notebook</a>'\n",
              "            + ' to learn more about interactive tables.';\n",
              "          element.innerHTML = '';\n",
              "          dataTable['output_type'] = 'display_data';\n",
              "          await google.colab.output.renderOutput(dataTable, element);\n",
              "          const docLink = document.createElement('div');\n",
              "          docLink.innerHTML = docLinkHtml;\n",
              "          element.appendChild(docLink);\n",
              "        }\n",
              "      </script>\n",
              "    </div>\n",
              "  </div>\n",
              "  "
            ]
          },
          "metadata": {},
          "execution_count": 36
        }
      ]
    },
    {
      "cell_type": "markdown",
      "source": [
        "##**Prepare Data**"
      ],
      "metadata": {
        "id": "iisQwtaFr94c"
      }
    },
    {
      "cell_type": "code",
      "source": [
        "# Plot The Target Value\n",
        "plt.plot(Stock_market[\"Close\"])\n",
        "plt.title(\"Close Values\")"
      ],
      "metadata": {
        "colab": {
          "base_uri": "https://localhost:8080/",
          "height": 469
        },
        "id": "w6FvbjDHt4KT",
        "outputId": "36d3caf9-e91a-40e9-eb65-3aafafc9550b"
      },
      "execution_count": 37,
      "outputs": [
        {
          "output_type": "execute_result",
          "data": {
            "text/plain": [
              "Text(0.5, 1.0, 'Close Values')"
            ]
          },
          "metadata": {},
          "execution_count": 37
        },
        {
          "output_type": "display_data",
          "data": {
            "text/plain": [
              "<Figure size 640x480 with 1 Axes>"
            ],
            "image/png": "[encoded data removed]"
          },
          "metadata": {}
        }
      ]
    },
    {
      "cell_type": "code",
      "source": [
        "scaler = MinMaxScaler(feature_range = (0,1))\n",
        "Stock_market_Scaled = scaler.fit_transform(Stock_market['Close'].values.reshape(-1,1))\n",
        "Stock_market_Scaled"
      ],
      "metadata": {
        "colab": {
          "base_uri": "https://localhost:8080/"
        },
        "id": "XwRzaI34t6A6",
        "outputId": "6305810c-e686-4d24-fc05-44b818eddac8"
      },
      "execution_count": 41,
      "outputs": [
        {
          "output_type": "execute_result",
          "data": {
            "text/plain": [
              "array([[0.62418301],\n",
              "       [0.62214052],\n",
              "       [0.62622549],\n",
              "       ...,\n",
              "       [0.1621732 ],\n",
              "       [0.16319444],\n",
              "       [0.16584967]])"
            ]
          },
          "metadata": {},
          "execution_count": 41
        }
      ]
    },
    {
      "cell_type": "code",
      "source": [
        "Training_size = int(0.7 * len(Stock_market_Scaled))\n",
        "Test_size = len(Stock_market_Scaled) - Training_size\n",
        "Train_data, Test_data = Stock_market_Scaled[:Training_size], Stock_market_Scaled[Training_size:]"
      ],
      "metadata": {
        "id": "5LxZHmu1vxHx"
      },
      "execution_count": 42,
      "outputs": []
    },
    {
      "cell_type": "code",
      "source": [
        "len(Train_data) + len(Test_data) == len(Close_Stock_market_Scaled)"
      ],
      "metadata": {
        "colab": {
          "base_uri": "https://localhost:8080/"
        },
        "id": "vonKRtTt2kaP",
        "outputId": "9ff61c6e-f2f4-4a02-a44f-9cbf2bd52c5d"
      },
      "execution_count": 43,
      "outputs": [
        {
          "output_type": "execute_result",
          "data": {
            "text/plain": [
              "True"
            ]
          },
          "metadata": {},
          "execution_count": 43
        }
      ]
    },
    {
      "cell_type": "code",
      "source": [
        "def Create_Dataset(Dataset, Time_step=1):\n",
        "  dataX, dataY = [], []\n",
        "  for i in range(len(Dataset)-Time_step-1):\n",
        "    a = Dataset[i:(i+Time_step), 0]\n",
        "    dataX.append(a)\n",
        "    dataY.append(Dataset[i+Time_step, 0])\n",
        "  return np.array(dataX), np.array(dataY)"
      ],
      "metadata": {
        "id": "PqNNHBucwcsV"
      },
      "execution_count": 44,
      "outputs": []
    },
    {
      "cell_type": "code",
      "source": [
        "Time_step = 50\n",
        "X_train, y_train = Create_Dataset(Train_data, Time_step)\n",
        "X_test, y_test = Create_Dataset (Test_data, Time_step)"
      ],
      "metadata": {
        "id": "tsHXSNnF19aS"
      },
      "execution_count": 46,
      "outputs": []
    },
    {
      "cell_type": "code",
      "source": [
        "print(X_train.shape)\n",
        "print(y_train.shape)\n",
        "print(X_test.shape)\n",
        "print(y_test.shape)"
      ],
      "metadata": {
        "colab": {
          "base_uri": "https://localhost:8080/"
        },
        "id": "WfjYWFoX2Yyi",
        "outputId": "c52d1c01-920b-482c-c060-8501efdef2a5"
      },
      "execution_count": 47,
      "outputs": [
        {
          "output_type": "stream",
          "name": "stdout",
          "text": [
            "(1373, 50)\n",
            "(1373,)\n",
            "(560, 50)\n",
            "(560,)\n"
          ]
        }
      ]
    },
    {
      "cell_type": "code",
      "source": [
        "X_train = X_train.reshape(X_train.shape[0], X_train.shape[1], 1)\n",
        "X_test = X_test.reshape(X_test.shape[0], X_test.shape[1], 1)"
      ],
      "metadata": {
        "id": "5_uQlk4l4raH"
      },
      "execution_count": 48,
      "outputs": []
    },
    {
      "cell_type": "markdown",
      "source": [
        "##**Create Model**"
      ],
      "metadata": {
        "id": "tHt8QefO3rS7"
      }
    },
    {
      "cell_type": "code",
      "source": [
        "# Build The Model\n",
        "model = Sequential()\n",
        "model.add(LSTM(50, return_sequences=True, input_shape=(Time_step,1)))\n",
        "model.add(LSTM(50, return_sequences=True))\n",
        "model.add(LSTM(50))\n",
        "model.add(Dense(1))\n",
        "model.compile(loss=\"mean_squared_error\", optimizer = \"adam\")\n",
        "model.summary()"
      ],
      "metadata": {
        "colab": {
          "base_uri": "https://localhost:8080/"
        },
        "id": "p_LyejUD5i_p",
        "outputId": "0c521073-e2ad-407c-9c89-371aa958bd33"
      },
      "execution_count": 50,
      "outputs": [
        {
          "output_type": "stream",
          "name": "stdout",
          "text": [
            "Model: \"sequential_1\"\n",
            "_________________________________________________________________\n",
            " Layer (type)                Output Shape              Param #   \n",
            "=================================================================\n",
            " lstm_3 (LSTM)               (None, 50, 50)            10400     \n",
            "                                                                 \n",
            " lstm_4 (LSTM)               (None, 50, 50)            20200     \n",
            "                                                                 \n",
            " lstm_5 (LSTM)               (None, 50)                20200     \n",
            "                                                                 \n",
            " dense_1 (Dense)             (None, 1)                 51        \n",
            "                                                                 \n",
            "=================================================================\n",
            "Total params: 50,851\n",
            "Trainable params: 50,851\n",
            "Non-trainable params: 0\n",
            "_________________________________________________________________\n"
          ]
        }
      ]
    },
    {
      "cell_type": "code",
      "source": [
        "# Fit The Model\n",
        "model.fit(X_train, y_train, epochs=100, batch_size=64, verbose=1)"
      ],
      "metadata": {
        "colab": {
          "base_uri": "https://localhost:8080/"
        },
        "id": "Q0gMNUxx6VlF",
        "outputId": "5aa07155-4e11-421b-f9b7-55767df8ca54"
      },
      "execution_count": 51,
      "outputs": [
        {
          "output_type": "stream",
          "name": "stdout",
          "text": [
            "Epoch 1/100\n",
            "22/22 [==============================] - 9s 155ms/step - loss: 0.0240\n",
            "Epoch 2/100\n",
            "22/22 [==============================] - 3s 121ms/step - loss: 0.0028\n",
            "Epoch 3/100\n",
            "22/22 [==============================] - 3s 121ms/step - loss: 0.0017\n",
            "Epoch 4/100\n",
            "22/22 [==============================] - 2s 102ms/step - loss: 0.0016\n",
            "Epoch 5/100\n",
            "22/22 [==============================] - 2s 110ms/step - loss: 0.0015\n",
            "Epoch 6/100\n",
            "22/22 [==============================] - 3s 145ms/step - loss: 0.0014\n",
            "Epoch 7/100\n",
            "22/22 [==============================] - 2s 100ms/step - loss: 0.0013\n",
            "Epoch 8/100\n",
            "22/22 [==============================] - 2s 101ms/step - loss: 0.0013\n",
            "Epoch 9/100\n",
            "22/22 [==============================] - 2s 101ms/step - loss: 0.0012\n",
            "Epoch 10/100\n",
            "22/22 [==============================] - 2s 101ms/step - loss: 0.0011\n",
            "Epoch 11/100\n",
            "22/22 [==============================] - 4s 162ms/step - loss: 0.0011\n",
            "Epoch 12/100\n",
            "22/22 [==============================] - 2s 101ms/step - loss: 0.0010\n",
            "Epoch 13/100\n",
            "22/22 [==============================] - 2s 103ms/step - loss: 9.9894e-04\n",
            "Epoch 14/100\n",
            "22/22 [==============================] - 2s 101ms/step - loss: 0.0011\n",
            "Epoch 15/100\n",
            "22/22 [==============================] - 2s 100ms/step - loss: 0.0011\n",
            "Epoch 16/100\n",
            "22/22 [==============================] - 3s 141ms/step - loss: 9.1386e-04\n",
            "Epoch 17/100\n",
            "22/22 [==============================] - 3s 114ms/step - loss: 9.7179e-04\n",
            "Epoch 18/100\n",
            "22/22 [==============================] - 2s 99ms/step - loss: 8.8169e-04\n",
            "Epoch 19/100\n",
            "22/22 [==============================] - 2s 100ms/step - loss: 8.5636e-04\n",
            "Epoch 20/100\n",
            "22/22 [==============================] - 2s 98ms/step - loss: 8.2771e-04\n",
            "Epoch 21/100\n",
            "22/22 [==============================] - 3s 114ms/step - loss: 7.8652e-04\n",
            "Epoch 22/100\n",
            "22/22 [==============================] - 3s 141ms/step - loss: 8.1356e-04\n",
            "Epoch 23/100\n",
            "22/22 [==============================] - 2s 100ms/step - loss: 7.9129e-04\n",
            "Epoch 24/100\n",
            "22/22 [==============================] - 2s 101ms/step - loss: 7.9617e-04\n",
            "Epoch 25/100\n",
            "22/22 [==============================] - 2s 101ms/step - loss: 7.0187e-04\n",
            "Epoch 26/100\n",
            "22/22 [==============================] - 2s 100ms/step - loss: 7.0108e-04\n",
            "Epoch 27/100\n",
            "22/22 [==============================] - 3s 161ms/step - loss: 7.7755e-04\n",
            "Epoch 28/100\n",
            "22/22 [==============================] - 2s 101ms/step - loss: 7.7447e-04\n",
            "Epoch 29/100\n",
            "22/22 [==============================] - 2s 102ms/step - loss: 6.7794e-04\n",
            "Epoch 30/100\n",
            "22/22 [==============================] - 2s 99ms/step - loss: 6.5060e-04\n",
            "Epoch 31/100\n",
            "22/22 [==============================] - 2s 101ms/step - loss: 6.8565e-04\n",
            "Epoch 32/100\n",
            "22/22 [==============================] - 3s 144ms/step - loss: 6.8690e-04\n",
            "Epoch 33/100\n",
            "22/22 [==============================] - 3s 112ms/step - loss: 5.7227e-04\n",
            "Epoch 34/100\n",
            "22/22 [==============================] - 2s 101ms/step - loss: 5.8933e-04\n",
            "Epoch 35/100\n",
            "22/22 [==============================] - 2s 101ms/step - loss: 5.5442e-04\n",
            "Epoch 36/100\n",
            "22/22 [==============================] - 2s 100ms/step - loss: 6.0349e-04\n",
            "Epoch 37/100\n",
            "22/22 [==============================] - 3s 119ms/step - loss: 7.3091e-04\n",
            "Epoch 38/100\n",
            "22/22 [==============================] - 3s 138ms/step - loss: 5.3057e-04\n",
            "Epoch 39/100\n",
            "22/22 [==============================] - 2s 100ms/step - loss: 4.8943e-04\n",
            "Epoch 40/100\n",
            "22/22 [==============================] - 2s 100ms/step - loss: 4.9908e-04\n",
            "Epoch 41/100\n",
            "22/22 [==============================] - 2s 100ms/step - loss: 5.4423e-04\n",
            "Epoch 42/100\n",
            "22/22 [==============================] - 2s 100ms/step - loss: 6.8340e-04\n",
            "Epoch 43/100\n",
            "22/22 [==============================] - 3s 158ms/step - loss: 4.9851e-04\n",
            "Epoch 44/100\n",
            "22/22 [==============================] - 2s 100ms/step - loss: 4.7227e-04\n",
            "Epoch 45/100\n",
            "22/22 [==============================] - 2s 100ms/step - loss: 4.7765e-04\n",
            "Epoch 46/100\n",
            "22/22 [==============================] - 2s 100ms/step - loss: 5.7362e-04\n",
            "Epoch 47/100\n",
            "22/22 [==============================] - 2s 99ms/step - loss: 4.3110e-04\n",
            "Epoch 48/100\n",
            "22/22 [==============================] - 3s 140ms/step - loss: 4.1582e-04\n",
            "Epoch 49/100\n",
            "22/22 [==============================] - 3s 116ms/step - loss: 4.4762e-04\n",
            "Epoch 50/100\n",
            "22/22 [==============================] - 2s 101ms/step - loss: 4.9829e-04\n",
            "Epoch 51/100\n",
            "22/22 [==============================] - 2s 101ms/step - loss: 4.2140e-04\n",
            "Epoch 52/100\n",
            "22/22 [==============================] - 2s 100ms/step - loss: 3.8268e-04\n",
            "Epoch 53/100\n",
            "22/22 [==============================] - 3s 117ms/step - loss: 4.5998e-04\n",
            "Epoch 54/100\n",
            "22/22 [==============================] - 4s 200ms/step - loss: 3.8193e-04\n",
            "Epoch 55/100\n",
            "22/22 [==============================] - 5s 218ms/step - loss: 4.2516e-04\n",
            "Epoch 56/100\n",
            "22/22 [==============================] - 3s 124ms/step - loss: 4.1070e-04\n",
            "Epoch 57/100\n",
            "22/22 [==============================] - 3s 159ms/step - loss: 3.8174e-04\n",
            "Epoch 58/100\n",
            "22/22 [==============================] - 2s 101ms/step - loss: 4.8721e-04\n",
            "Epoch 59/100\n",
            "22/22 [==============================] - 2s 100ms/step - loss: 4.2692e-04\n",
            "Epoch 60/100\n",
            "22/22 [==============================] - 2s 101ms/step - loss: 3.8755e-04\n",
            "Epoch 61/100\n",
            "22/22 [==============================] - 2s 101ms/step - loss: 3.8893e-04\n",
            "Epoch 62/100\n",
            "22/22 [==============================] - 4s 207ms/step - loss: 3.7590e-04\n",
            "Epoch 63/100\n",
            "22/22 [==============================] - 4s 162ms/step - loss: 3.7079e-04\n",
            "Epoch 64/100\n",
            "22/22 [==============================] - 3s 161ms/step - loss: 3.4323e-04\n",
            "Epoch 65/100\n",
            "22/22 [==============================] - 3s 146ms/step - loss: 3.2242e-04\n",
            "Epoch 66/100\n",
            "22/22 [==============================] - 3s 148ms/step - loss: 3.5000e-04\n",
            "Epoch 67/100\n",
            "22/22 [==============================] - 4s 175ms/step - loss: 3.1787e-04\n",
            "Epoch 68/100\n",
            "22/22 [==============================] - 4s 180ms/step - loss: 3.1584e-04\n",
            "Epoch 69/100\n",
            "22/22 [==============================] - 5s 239ms/step - loss: 3.0819e-04\n",
            "Epoch 70/100\n",
            "22/22 [==============================] - 4s 172ms/step - loss: 3.1262e-04\n",
            "Epoch 71/100\n",
            "22/22 [==============================] - 3s 142ms/step - loss: 3.0168e-04\n",
            "Epoch 72/100\n",
            "22/22 [==============================] - 2s 104ms/step - loss: 3.0010e-04\n",
            "Epoch 73/100\n",
            "22/22 [==============================] - 3s 160ms/step - loss: 2.9660e-04\n",
            "Epoch 74/100\n",
            "22/22 [==============================] - 2s 100ms/step - loss: 3.0173e-04\n",
            "Epoch 75/100\n",
            "22/22 [==============================] - 2s 100ms/step - loss: 3.2542e-04\n",
            "Epoch 76/100\n",
            "22/22 [==============================] - 2s 101ms/step - loss: 3.4017e-04\n",
            "Epoch 77/100\n",
            "22/22 [==============================] - 2s 100ms/step - loss: 3.3031e-04\n",
            "Epoch 78/100\n",
            "22/22 [==============================] - 3s 137ms/step - loss: 3.2061e-04\n",
            "Epoch 79/100\n",
            "22/22 [==============================] - 3s 151ms/step - loss: 3.7870e-04\n",
            "Epoch 80/100\n",
            "22/22 [==============================] - 2s 103ms/step - loss: 3.2165e-04\n",
            "Epoch 81/100\n",
            "22/22 [==============================] - 2s 100ms/step - loss: 3.2939e-04\n",
            "Epoch 82/100\n",
            "22/22 [==============================] - 2s 104ms/step - loss: 2.9337e-04\n",
            "Epoch 83/100\n",
            "22/22 [==============================] - 3s 142ms/step - loss: 3.1885e-04\n",
            "Epoch 84/100\n",
            "22/22 [==============================] - 3s 145ms/step - loss: 2.8768e-04\n",
            "Epoch 85/100\n",
            "22/22 [==============================] - 3s 141ms/step - loss: 2.6481e-04\n",
            "Epoch 86/100\n",
            "22/22 [==============================] - 3s 126ms/step - loss: 2.5425e-04\n",
            "Epoch 87/100\n",
            "22/22 [==============================] - 6s 273ms/step - loss: 2.7160e-04\n",
            "Epoch 88/100\n",
            "22/22 [==============================] - 3s 124ms/step - loss: 3.5337e-04\n",
            "Epoch 89/100\n",
            "22/22 [==============================] - 3s 137ms/step - loss: 3.6080e-04\n",
            "Epoch 90/100\n",
            "22/22 [==============================] - 3s 141ms/step - loss: 2.8356e-04\n",
            "Epoch 91/100\n",
            "22/22 [==============================] - 3s 158ms/step - loss: 2.6882e-04\n",
            "Epoch 92/100\n",
            "22/22 [==============================] - 3s 140ms/step - loss: 2.7812e-04\n",
            "Epoch 93/100\n",
            "22/22 [==============================] - 3s 136ms/step - loss: 2.8349e-04\n",
            "Epoch 94/100\n",
            "22/22 [==============================] - 3s 131ms/step - loss: 2.6332e-04\n",
            "Epoch 95/100\n",
            "22/22 [==============================] - 4s 192ms/step - loss: 2.9482e-04\n",
            "Epoch 96/100\n",
            "22/22 [==============================] - 2s 103ms/step - loss: 3.4663e-04\n",
            "Epoch 97/100\n",
            "22/22 [==============================] - 2s 111ms/step - loss: 2.5451e-04\n",
            "Epoch 98/100\n",
            "22/22 [==============================] - 3s 136ms/step - loss: 2.7152e-04\n",
            "Epoch 99/100\n",
            "22/22 [==============================] - 4s 169ms/step - loss: 2.6376e-04\n",
            "Epoch 100/100\n",
            "22/22 [==============================] - 5s 216ms/step - loss: 2.8359e-04\n"
          ]
        },
        {
          "output_type": "execute_result",
          "data": {
            "text/plain": [
              "<keras.callbacks.History at 0x7f330d1ff280>"
            ]
          },
          "metadata": {},
          "execution_count": 51
        }
      ]
    },
    {
      "cell_type": "code",
      "source": [
        "# Evaluate the model\n",
        "Train_loss = model.evaluate(X_train, y_train)\n",
        "print(Train_loss)\n",
        "Test_loss = model.evaluate(X_test, y_test)\n",
        "print(Test_loss)"
      ],
      "metadata": {
        "colab": {
          "base_uri": "https://localhost:8080/"
        },
        "id": "40_jfC559P5J",
        "outputId": "4563764c-032c-4de8-80bc-546c2b459dc6"
      },
      "execution_count": 53,
      "outputs": [
        {
          "output_type": "stream",
          "name": "stdout",
          "text": [
            "43/43 [==============================] - 1s 26ms/step - loss: 2.4505e-04\n",
            "0.0002450471802148968\n",
            "18/18 [==============================] - 0s 24ms/step - loss: 1.9403e-04\n",
            "0.00019402719044592232\n"
          ]
        }
      ]
    },
    {
      "cell_type": "code",
      "source": [
        "# Make Predictions\n",
        "Train_pred = model.predict(X_train)\n",
        "Test_pred = model.predict(X_test)\n",
        "# Invert The Predictions To It's Original Range\n",
        "Train_pred = scaler.inverse_transform(Train_pred)\n",
        "Test_pred = scaler.inverse_transform(Test_pred)"
      ],
      "metadata": {
        "colab": {
          "base_uri": "https://localhost:8080/"
        },
        "id": "QDdJanMpgIEj",
        "outputId": "a8ac98a6-cbca-4971-a3ec-921922197a1f"
      },
      "execution_count": 54,
      "outputs": [
        {
          "output_type": "stream",
          "name": "stdout",
          "text": [
            "43/43 [==============================] - 3s 33ms/step\n",
            "18/18 [==============================] - 0s 24ms/step\n"
          ]
        }
      ]
    },
    {
      "cell_type": "code",
      "source": [
        "# Calculate RMSE For Training\n",
        "train_error = np.sqrt(mean_squared_error(y_train, Train_pred))\n",
        "print(train_error)"
      ],
      "metadata": {
        "colab": {
          "base_uri": "https://localhost:8080/"
        },
        "id": "iFvPFWmpiCwH",
        "outputId": "4ce6cabf-e2b5-4ab5-ffbb-31b35bd7e46a"
      },
      "execution_count": 55,
      "outputs": [
        {
          "output_type": "stream",
          "name": "stdout",
          "text": [
            "168.1372581804799\n"
          ]
        }
      ]
    },
    {
      "cell_type": "code",
      "source": [
        "# Calculate RMSE For Testing\n",
        "test_error = np.sqrt(mean_squared_error(y_test, Test_pred))\n",
        "print(test_error)"
      ],
      "metadata": {
        "colab": {
          "base_uri": "https://localhost:8080/"
        },
        "id": "NljpPzotigd_",
        "outputId": "a44cd6dd-72be-4473-eed1-f7c2e1ee4962"
      },
      "execution_count": 56,
      "outputs": [
        {
          "output_type": "stream",
          "name": "stdout",
          "text": [
            "110.50308070945708\n"
          ]
        }
      ]
    },
    {
      "cell_type": "code",
      "source": [
        "look_back=50\n",
        "# shift train predictions for plotting\n",
        "trainPredictPlot = np.empty_like(Stock_market_Scaled)\n",
        "trainPredictPlot[:, :] = np.nan\n",
        "trainPredictPlot[look_back:len(Train_pred)+look_back, :] = Train_pred\n",
        "# shift test predictions for plotting\n",
        "testPredictPlot = np.empty_like(Stock_market_Scaled)\n",
        "testPredictPlot[:, :] = np.nan\n",
        "testPredictPlot[len(Train_pred)+(look_back*2)+1:len(Stock_market_Scaled)-1, :] = Test_pred\n",
        "# plot baseline , Train , Test\n",
        "plt.plot(scaler.inverse_transform(Stock_market_Scaled), label=\"Actual\")\n",
        "plt.plot(trainPredictPlot, label=\"Training\")\n",
        "plt.plot(testPredictPlot, label=\"Testing\")\n",
        "plt.ylabel(\"Stock Price\")\n",
        "plt.title(\"Actual, Train, Test Stock Prices\")\n",
        "plt.legend()\n",
        "plt.show()"
      ],
      "metadata": {
        "colab": {
          "base_uri": "https://localhost:8080/",
          "height": 452
        },
        "id": "copTj92oiv5l",
        "outputId": "7580ad3d-72f6-4d02-ff1d-5f20d21adc5d"
      },
      "execution_count": 61,
      "outputs": [
        {
          "output_type": "display_data",
          "data": {
            "text/plain": [
              "<Figure size 640x480 with 1 Axes>"
            ],
            "image/png": "[encoded data removed]"
          },
          "metadata": {}
        }
      ]
    }
  ]
}